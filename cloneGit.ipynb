{
  "nbformat": 4,
  "nbformat_minor": 0,
  "metadata": {
    "colab": {
      "name": "cloneGit.ipynb",
      "provenance": [],
      "mount_file_id": "1KHgKHhQ48J0yzJ7Qk7q7m7v2dqUD1wD5",
      "authorship_tag": "ABX9TyOiu5rVh4WxstBCLMxInMi7",
      "include_colab_link": true
    },
    "kernelspec": {
      "name": "python3",
      "display_name": "Python 3"
    },
    "language_info": {
      "name": "python"
    }
  },
  "cells": [
    {
      "cell_type": "markdown",
      "metadata": {
        "id": "view-in-github",
        "colab_type": "text"
      },
      "source": [
        "<a href=\"https://colab.research.google.com/github/Naravitch/AssignmentAI-Vacuum-/blob/main/cloneGit.ipynb\" target=\"_parent\"><img src=\"https://colab.research.google.com/assets/colab-badge.svg\" alt=\"Open In Colab\"/></a>"
      ]
    },
    {
      "cell_type": "code",
      "execution_count": null,
      "metadata": {
        "id": "bMvEBktrljH6"
      },
      "outputs": [],
      "source": [
        "#check git library\n",
        "!git"
      ]
    },
    {
      "cell_type": "code",
      "source": [
        "#print working directory\n",
        "!pwd"
      ],
      "metadata": {
        "colab": {
          "base_uri": "https://localhost:8080/"
        },
        "id": "Sm9M6WFBmKnf",
        "outputId": "5c8c1602-a88c-471a-8304-7497956ddb1f"
      },
      "execution_count": 2,
      "outputs": [
        {
          "output_type": "stream",
          "name": "stdout",
          "text": [
            "/content\n"
          ]
        }
      ]
    },
    {
      "cell_type": "code",
      "source": [
        "#clone directory\n",
        "!git clone https://github.com/Laksheeta/Simple-Reflex-Vaccum-Agent.git"
      ],
      "metadata": {
        "colab": {
          "base_uri": "https://localhost:8080/"
        },
        "id": "SH73pSnAmP9v",
        "outputId": "ca6d37eb-ce40-4cea-bd4d-92af63b686b3"
      },
      "execution_count": 3,
      "outputs": [
        {
          "output_type": "stream",
          "name": "stdout",
          "text": [
            "Cloning into 'Simple-Reflex-Vaccum-Agent'...\n",
            "remote: Enumerating objects: 18, done.\u001b[K\n",
            "remote: Counting objects: 100% (18/18), done.\u001b[K\n",
            "remote: Compressing objects: 100% (17/17), done.\u001b[K\n",
            "Unpacking objects: 100% (18/18), done.\n",
            "remote: Total 18 (delta 4), reused 3 (delta 0), pack-reused 0\u001b[K\n"
          ]
        }
      ]
    },
    {
      "cell_type": "code",
      "source": [
        "!ls -l"
      ],
      "metadata": {
        "colab": {
          "base_uri": "https://localhost:8080/"
        },
        "id": "i17l99HFma0w",
        "outputId": "d317f723-1e9c-4dc4-e1d3-ba28805eee89"
      },
      "execution_count": 4,
      "outputs": [
        {
          "output_type": "stream",
          "name": "stdout",
          "text": [
            "total 8\n",
            "drwxr-xr-x 1 root root 4096 Aug 15 13:44 sample_data\n",
            "drwxr-xr-x 3 root root 4096 Aug 28 03:41 Simple-Reflex-Vaccum-Agent\n"
          ]
        }
      ]
    },
    {
      "cell_type": "code",
      "source": [
        "#mount Gdrive\n",
        "from google.colab import drive\n",
        "ROOT = '/content/Gdrive'\n",
        "drive.mount(ROOT)"
      ],
      "metadata": {
        "colab": {
          "base_uri": "https://localhost:8080/"
        },
        "id": "HGObk6znno6J",
        "outputId": "8ae7d58f-13e9-4427-abb1-60b78cb3cab6"
      },
      "execution_count": 6,
      "outputs": [
        {
          "output_type": "stream",
          "name": "stdout",
          "text": [
            "Mounted at /content/Gdrive\n"
          ]
        }
      ]
    },
    {
      "cell_type": "code",
      "source": [
        "Proj_path = '/content/drive/MyDrive/Ai'"
      ],
      "metadata": {
        "id": "KcUgIYn8n1q8"
      },
      "execution_count": 9,
      "outputs": []
    },
    {
      "cell_type": "code",
      "source": [
        "!mkdir = {Proj_path}"
      ],
      "metadata": {
        "colab": {
          "base_uri": "https://localhost:8080/"
        },
        "id": "0mdm5wQLotlt",
        "outputId": "53260696-f3d1-4c96-f9b0-9eba1277a5f6"
      },
      "execution_count": 10,
      "outputs": [
        {
          "output_type": "stream",
          "name": "stdout",
          "text": [
            "mkdir: cannot create directory ‘=’: File exists\n",
            "mkdir: cannot create directory ‘/content/drive/MyDrive/Ai’: File exists\n"
          ]
        }
      ]
    },
    {
      "cell_type": "code",
      "source": [
        "from google.colab import drive\n",
        "drive.mount('/content/drive')"
      ],
      "metadata": {
        "id": "UvxBtixjil6o"
      },
      "execution_count": null,
      "outputs": []
    },
    {
      "cell_type": "code",
      "source": [
        "!mv /content/Simple-Reflex-Vaccum-Agent* '{Proj_path}'"
      ],
      "metadata": {
        "id": "FwEx-CJ-ozNl"
      },
      "execution_count": 12,
      "outputs": []
    }
  ]
}